{
 "cells": [
  {
   "cell_type": "code",
   "execution_count": 26,
   "metadata": {
    "id": "UZTZImppFE74"
   },
   "outputs": [],
   "source": [
    "import pandas as pd\n",
    "import numpy as np\n",
    "\n",
    "from nltk.tokenize import word_tokenize\n",
    "\n",
    "import matplotlib.pyplot as plt\n",
    "from sklearn.metrics import roc_auc_score\n",
    "from sklearn.pipeline import Pipeline\n",
    "from sklearn.tree import DecisionTreeClassifier\n",
    "from sklearn.linear_model import LogisticRegression\n",
    "\n",
    "from sklearn.metrics import classification_report,confusion_matrix\n",
    "import pickle\n",
    "import seaborn as sns"
   ]
  },
  {
   "cell_type": "code",
   "execution_count": 27,
   "metadata": {
    "colab": {
     "base_uri": "https://localhost:8080/",
     "height": 424
    },
    "id": "f8-SQHFLI0Id",
    "outputId": "df35ed3b-6300-449e-e2a1-8144aa1a190b"
   },
   "outputs": [
    {
     "data": {
      "text/html": [
       "<div>\n",
       "<style scoped>\n",
       "    .dataframe tbody tr th:only-of-type {\n",
       "        vertical-align: middle;\n",
       "    }\n",
       "\n",
       "    .dataframe tbody tr th {\n",
       "        vertical-align: top;\n",
       "    }\n",
       "\n",
       "    .dataframe thead th {\n",
       "        text-align: right;\n",
       "    }\n",
       "</style>\n",
       "<table border=\"1\" class=\"dataframe\">\n",
       "  <thead>\n",
       "    <tr style=\"text-align: right;\">\n",
       "      <th></th>\n",
       "      <th>review</th>\n",
       "      <th>sentiment</th>\n",
       "    </tr>\n",
       "  </thead>\n",
       "  <tbody>\n",
       "    <tr>\n",
       "      <th>0</th>\n",
       "      <td>One of the other reviewers has mentioned that ...</td>\n",
       "      <td>positive</td>\n",
       "    </tr>\n",
       "    <tr>\n",
       "      <th>1</th>\n",
       "      <td>A wonderful little production. &lt;br /&gt;&lt;br /&gt;The...</td>\n",
       "      <td>positive</td>\n",
       "    </tr>\n",
       "    <tr>\n",
       "      <th>2</th>\n",
       "      <td>I thought this was a wonderful way to spend ti...</td>\n",
       "      <td>positive</td>\n",
       "    </tr>\n",
       "    <tr>\n",
       "      <th>3</th>\n",
       "      <td>Basically there's a family where a little boy ...</td>\n",
       "      <td>negative</td>\n",
       "    </tr>\n",
       "    <tr>\n",
       "      <th>4</th>\n",
       "      <td>Petter Mattei's \"Love in the Time of Money\" is...</td>\n",
       "      <td>positive</td>\n",
       "    </tr>\n",
       "    <tr>\n",
       "      <th>...</th>\n",
       "      <td>...</td>\n",
       "      <td>...</td>\n",
       "    </tr>\n",
       "    <tr>\n",
       "      <th>49995</th>\n",
       "      <td>I thought this movie did a down right good job...</td>\n",
       "      <td>positive</td>\n",
       "    </tr>\n",
       "    <tr>\n",
       "      <th>49996</th>\n",
       "      <td>Bad plot, bad dialogue, bad acting, idiotic di...</td>\n",
       "      <td>negative</td>\n",
       "    </tr>\n",
       "    <tr>\n",
       "      <th>49997</th>\n",
       "      <td>I am a Catholic taught in parochial elementary...</td>\n",
       "      <td>negative</td>\n",
       "    </tr>\n",
       "    <tr>\n",
       "      <th>49998</th>\n",
       "      <td>I'm going to have to disagree with the previou...</td>\n",
       "      <td>negative</td>\n",
       "    </tr>\n",
       "    <tr>\n",
       "      <th>49999</th>\n",
       "      <td>No one expects the Star Trek movies to be high...</td>\n",
       "      <td>negative</td>\n",
       "    </tr>\n",
       "  </tbody>\n",
       "</table>\n",
       "<p>50000 rows × 2 columns</p>\n",
       "</div>"
      ],
      "text/plain": [
       "                                                  review sentiment\n",
       "0      One of the other reviewers has mentioned that ...  positive\n",
       "1      A wonderful little production. <br /><br />The...  positive\n",
       "2      I thought this was a wonderful way to spend ti...  positive\n",
       "3      Basically there's a family where a little boy ...  negative\n",
       "4      Petter Mattei's \"Love in the Time of Money\" is...  positive\n",
       "...                                                  ...       ...\n",
       "49995  I thought this movie did a down right good job...  positive\n",
       "49996  Bad plot, bad dialogue, bad acting, idiotic di...  negative\n",
       "49997  I am a Catholic taught in parochial elementary...  negative\n",
       "49998  I'm going to have to disagree with the previou...  negative\n",
       "49999  No one expects the Star Trek movies to be high...  negative\n",
       "\n",
       "[50000 rows x 2 columns]"
      ]
     },
     "execution_count": 27,
     "metadata": {},
     "output_type": "execute_result"
    }
   ],
   "source": [
    "url = \"IMDB_Dataset.csv\"\n",
    "df = pd.read_csv(url)\n",
    "df"
   ]
  },
  {
   "cell_type": "code",
   "execution_count": 28,
   "metadata": {
    "colab": {
     "base_uri": "https://localhost:8080/"
    },
    "id": "EdNrtqbuJuAx",
    "outputId": "b13ee2f0-c7e2-41c3-8aa9-a39917c18ff5"
   },
   "outputs": [
    {
     "data": {
      "text/plain": [
       "(50000, 2)"
      ]
     },
     "execution_count": 28,
     "metadata": {},
     "output_type": "execute_result"
    }
   ],
   "source": [
    "df.shape"
   ]
  },
  {
   "cell_type": "code",
   "execution_count": 24,
   "metadata": {
    "colab": {
     "base_uri": "https://localhost:8080/"
    },
    "id": "AMdgPUcSJ0cS",
    "outputId": "18f74ea5-09da-4709-c6d0-d6ec2d8bd924"
   },
   "outputs": [
    {
     "name": "stdout",
     "output_type": "stream",
     "text": [
      "<class 'pandas.core.frame.DataFrame'>\n",
      "RangeIndex: 50000 entries, 0 to 49999\n",
      "Data columns (total 2 columns):\n",
      " #   Column     Non-Null Count  Dtype \n",
      "---  ------     --------------  ----- \n",
      " 0   review     50000 non-null  object\n",
      " 1   sentiment  50000 non-null  object\n",
      "dtypes: object(2)\n",
      "memory usage: 781.4+ KB\n"
     ]
    }
   ],
   "source": [
    "df.info()  "
   ]
  },
  {
   "cell_type": "code",
   "execution_count": 29,
   "metadata": {
    "colab": {
     "base_uri": "https://localhost:8080/",
     "height": 206
    },
    "id": "A2VOkj0sJ3xQ",
    "outputId": "1fec1c57-a59e-464c-9524-a6b8e68eca8b"
   },
   "outputs": [
    {
     "data": {
      "text/html": [
       "<div>\n",
       "<style scoped>\n",
       "    .dataframe tbody tr th:only-of-type {\n",
       "        vertical-align: middle;\n",
       "    }\n",
       "\n",
       "    .dataframe tbody tr th {\n",
       "        vertical-align: top;\n",
       "    }\n",
       "\n",
       "    .dataframe thead th {\n",
       "        text-align: right;\n",
       "    }\n",
       "</style>\n",
       "<table border=\"1\" class=\"dataframe\">\n",
       "  <thead>\n",
       "    <tr style=\"text-align: right;\">\n",
       "      <th></th>\n",
       "      <th>review</th>\n",
       "      <th>sentiment</th>\n",
       "    </tr>\n",
       "  </thead>\n",
       "  <tbody>\n",
       "    <tr>\n",
       "      <th>0</th>\n",
       "      <td>One of the other reviewers has mentioned that ...</td>\n",
       "      <td>1</td>\n",
       "    </tr>\n",
       "    <tr>\n",
       "      <th>1</th>\n",
       "      <td>A wonderful little production. &lt;br /&gt;&lt;br /&gt;The...</td>\n",
       "      <td>1</td>\n",
       "    </tr>\n",
       "    <tr>\n",
       "      <th>2</th>\n",
       "      <td>I thought this was a wonderful way to spend ti...</td>\n",
       "      <td>1</td>\n",
       "    </tr>\n",
       "    <tr>\n",
       "      <th>3</th>\n",
       "      <td>Basically there's a family where a little boy ...</td>\n",
       "      <td>0</td>\n",
       "    </tr>\n",
       "    <tr>\n",
       "      <th>4</th>\n",
       "      <td>Petter Mattei's \"Love in the Time of Money\" is...</td>\n",
       "      <td>1</td>\n",
       "    </tr>\n",
       "  </tbody>\n",
       "</table>\n",
       "</div>"
      ],
      "text/plain": [
       "                                              review  sentiment\n",
       "0  One of the other reviewers has mentioned that ...          1\n",
       "1  A wonderful little production. <br /><br />The...          1\n",
       "2  I thought this was a wonderful way to spend ti...          1\n",
       "3  Basically there's a family where a little boy ...          0\n",
       "4  Petter Mattei's \"Love in the Time of Money\" is...          1"
      ]
     },
     "execution_count": 29,
     "metadata": {},
     "output_type": "execute_result"
    }
   ],
   "source": [
    "df['sentiment'].replace({'positive':1,'negative':0},inplace=True)\n",
    "df.head()"
   ]
  },
  {
   "cell_type": "code",
   "execution_count": 30,
   "metadata": {
    "colab": {
     "base_uri": "https://localhost:8080/",
     "height": 105
    },
    "id": "ZSBq0knxKUY7",
    "outputId": "c67e02d8-3fbf-40b4-f6fd-74c904dd6071"
   },
   "outputs": [
    {
     "data": {
      "text/plain": [
       "'I thought this was a wonderful way to spend time on a too hot summer weekend, sitting in the air conditioned theater and watching a light-hearted comedy. The plot is simplistic, but the dialogue is witty and the characters are likable (even the well bread suspected serial killer). While some may be disappointed when they realize this is not Match Point 2: Risk Addiction, I thought it was proof that Woody Allen is still fully in control of the style many of us have grown to love.This was the most I\\'d laughed at one of Woody\\'s comedies in years (dare I say a decade?). While I\\'ve never been impressed with Scarlet Johanson, in this she managed to tone down her \"sexy\" image and jumped right into a average, but spirited young woman.This may not be the crown jewel of his career, but it was wittier than \"Devil Wears Prada\" and more interesting than \"Superman\" a great comedy to go see with friends.'"
      ]
     },
     "execution_count": 30,
     "metadata": {},
     "output_type": "execute_result"
    }
   ],
   "source": [
    "import re\n",
    "clean = re.compile('<.*?>')\n",
    "re.sub(clean, '', df.iloc[2].review)"
   ]
  },
  {
   "cell_type": "code",
   "execution_count": 31,
   "metadata": {
    "id": "nbU7RiBXKvD6"
   },
   "outputs": [],
   "source": [
    "def clean_html(text):\n",
    "  clean = re.compile('<.*?>')\n",
    "  return re.sub(clean, '', text)"
   ]
  },
  {
   "cell_type": "code",
   "execution_count": 32,
   "metadata": {
    "id": "FsbdNU8lMKNj"
   },
   "outputs": [],
   "source": [
    "df['review']=df['review'].apply(clean_html)"
   ]
  },
  {
   "cell_type": "code",
   "execution_count": 33,
   "metadata": {
    "id": "VwhHbdThMQPx"
   },
   "outputs": [],
   "source": [
    "def convert_lower(text): \n",
    "  return text.lower()"
   ]
  },
  {
   "cell_type": "code",
   "execution_count": 34,
   "metadata": {
    "id": "wkV_6hh3MkWd"
   },
   "outputs": [],
   "source": [
    "df['review']=df['review'].apply(convert_lower)"
   ]
  },
  {
   "cell_type": "code",
   "execution_count": 35,
   "metadata": {
    "id": "l237OgjcNCuc"
   },
   "outputs": [],
   "source": [
    "def remove_special(text):\n",
    "  x=' '\n",
    "\n",
    "  for i in text:\n",
    "    if i.isalnum():\n",
    "      x=x+i\n",
    "    else:\n",
    "      x=x + ' '\n",
    "  return x"
   ]
  },
  {
   "cell_type": "code",
   "execution_count": 11,
   "metadata": {
    "colab": {
     "base_uri": "https://localhost:8080/",
     "height": 424
    },
    "id": "rhEJTti-N0WQ",
    "outputId": "f3236bf5-72b3-45bc-a73a-c22428df000a"
   },
   "outputs": [
    {
     "data": {
      "text/html": [
       "<div>\n",
       "<style scoped>\n",
       "    .dataframe tbody tr th:only-of-type {\n",
       "        vertical-align: middle;\n",
       "    }\n",
       "\n",
       "    .dataframe tbody tr th {\n",
       "        vertical-align: top;\n",
       "    }\n",
       "\n",
       "    .dataframe thead th {\n",
       "        text-align: right;\n",
       "    }\n",
       "</style>\n",
       "<table border=\"1\" class=\"dataframe\">\n",
       "  <thead>\n",
       "    <tr style=\"text-align: right;\">\n",
       "      <th></th>\n",
       "      <th>review</th>\n",
       "      <th>sentiment</th>\n",
       "    </tr>\n",
       "  </thead>\n",
       "  <tbody>\n",
       "    <tr>\n",
       "      <th>0</th>\n",
       "      <td>one of the other reviewers has mentioned that...</td>\n",
       "      <td>1</td>\n",
       "    </tr>\n",
       "    <tr>\n",
       "      <th>1</th>\n",
       "      <td>a wonderful little production  the filming te...</td>\n",
       "      <td>1</td>\n",
       "    </tr>\n",
       "    <tr>\n",
       "      <th>2</th>\n",
       "      <td>i thought this was a wonderful way to spend t...</td>\n",
       "      <td>1</td>\n",
       "    </tr>\n",
       "    <tr>\n",
       "      <th>3</th>\n",
       "      <td>basically there s a family where a little boy...</td>\n",
       "      <td>0</td>\n",
       "    </tr>\n",
       "    <tr>\n",
       "      <th>4</th>\n",
       "      <td>petter mattei s  love in the time of money  i...</td>\n",
       "      <td>1</td>\n",
       "    </tr>\n",
       "    <tr>\n",
       "      <th>...</th>\n",
       "      <td>...</td>\n",
       "      <td>...</td>\n",
       "    </tr>\n",
       "    <tr>\n",
       "      <th>49995</th>\n",
       "      <td>i thought this movie did a down right good jo...</td>\n",
       "      <td>1</td>\n",
       "    </tr>\n",
       "    <tr>\n",
       "      <th>49996</th>\n",
       "      <td>bad plot  bad dialogue  bad acting  idiotic d...</td>\n",
       "      <td>0</td>\n",
       "    </tr>\n",
       "    <tr>\n",
       "      <th>49997</th>\n",
       "      <td>i am a catholic taught in parochial elementar...</td>\n",
       "      <td>0</td>\n",
       "    </tr>\n",
       "    <tr>\n",
       "      <th>49998</th>\n",
       "      <td>i m going to have to disagree with the previo...</td>\n",
       "      <td>0</td>\n",
       "    </tr>\n",
       "    <tr>\n",
       "      <th>49999</th>\n",
       "      <td>no one expects the star trek movies to be hig...</td>\n",
       "      <td>0</td>\n",
       "    </tr>\n",
       "  </tbody>\n",
       "</table>\n",
       "<p>50000 rows × 2 columns</p>\n",
       "</div>"
      ],
      "text/plain": [
       "                                                  review  sentiment\n",
       "0       one of the other reviewers has mentioned that...          1\n",
       "1       a wonderful little production  the filming te...          1\n",
       "2       i thought this was a wonderful way to spend t...          1\n",
       "3       basically there s a family where a little boy...          0\n",
       "4       petter mattei s  love in the time of money  i...          1\n",
       "...                                                  ...        ...\n",
       "49995   i thought this movie did a down right good jo...          1\n",
       "49996   bad plot  bad dialogue  bad acting  idiotic d...          0\n",
       "49997   i am a catholic taught in parochial elementar...          0\n",
       "49998   i m going to have to disagree with the previo...          0\n",
       "49999   no one expects the star trek movies to be hig...          0\n",
       "\n",
       "[50000 rows x 2 columns]"
      ]
     },
     "execution_count": 11,
     "metadata": {},
     "output_type": "execute_result"
    }
   ],
   "source": [
    "df['review']=df['review'].apply(remove_special)\n",
    "df"
   ]
  },
  {
   "cell_type": "code",
   "execution_count": 36,
   "metadata": {
    "colab": {
     "base_uri": "https://localhost:8080/"
    },
    "id": "0JJq6VQBODHg",
    "outputId": "5c3aa9b9-b823-4c97-e320-e1f606b05816"
   },
   "outputs": [
    {
     "name": "stderr",
     "output_type": "stream",
     "text": [
      "[nltk_data] Downloading package punkt to\n",
      "[nltk_data]     C:\\Users\\user\\AppData\\Roaming\\nltk_data...\n",
      "[nltk_data]   Package punkt is already up-to-date!\n",
      "[nltk_data] Downloading package stopwords to\n",
      "[nltk_data]     C:\\Users\\user\\AppData\\Roaming\\nltk_data...\n",
      "[nltk_data]   Package stopwords is already up-to-date!\n"
     ]
    },
    {
     "data": {
      "text/plain": [
       "True"
      ]
     },
     "execution_count": 36,
     "metadata": {},
     "output_type": "execute_result"
    }
   ],
   "source": [
    "import nltk\n",
    "from nltk.corpus import stopwords\n",
    "nltk.download('punkt')\n",
    "nltk.download('stopwords')"
   ]
  },
  {
   "cell_type": "code",
   "execution_count": 37,
   "metadata": {
    "id": "mQyD0jy_q54w"
   },
   "outputs": [],
   "source": [
    "def rem_stopwords(text):\n",
    "    stop_words = set(stopwords.words('english'))\n",
    "    words = word_tokenize(text)\n",
    "    return [w for w in words if w not in stop_words]\n",
    "    "
   ]
  },
  {
   "cell_type": "code",
   "execution_count": 38,
   "metadata": {
    "id": "a3tD7RksQ2JK"
   },
   "outputs": [],
   "source": [
    "df['review']=df['review'].apply(rem_stopwords)"
   ]
  },
  {
   "cell_type": "code",
   "execution_count": 39,
   "metadata": {
    "colab": {
     "base_uri": "https://localhost:8080/",
     "height": 424
    },
    "id": "6lbjsDqJs7ry",
    "outputId": "363d6dd0-d2ff-4331-c352-1596d7b06988"
   },
   "outputs": [
    {
     "data": {
      "text/html": [
       "<div>\n",
       "<style scoped>\n",
       "    .dataframe tbody tr th:only-of-type {\n",
       "        vertical-align: middle;\n",
       "    }\n",
       "\n",
       "    .dataframe tbody tr th {\n",
       "        vertical-align: top;\n",
       "    }\n",
       "\n",
       "    .dataframe thead th {\n",
       "        text-align: right;\n",
       "    }\n",
       "</style>\n",
       "<table border=\"1\" class=\"dataframe\">\n",
       "  <thead>\n",
       "    <tr style=\"text-align: right;\">\n",
       "      <th></th>\n",
       "      <th>review</th>\n",
       "      <th>sentiment</th>\n",
       "    </tr>\n",
       "  </thead>\n",
       "  <tbody>\n",
       "    <tr>\n",
       "      <th>0</th>\n",
       "      <td>[one, reviewers, mentioned, watching, 1, oz, e...</td>\n",
       "      <td>1</td>\n",
       "    </tr>\n",
       "    <tr>\n",
       "      <th>1</th>\n",
       "      <td>[wonderful, little, production, ., filming, te...</td>\n",
       "      <td>1</td>\n",
       "    </tr>\n",
       "    <tr>\n",
       "      <th>2</th>\n",
       "      <td>[thought, wonderful, way, spend, time, hot, su...</td>\n",
       "      <td>1</td>\n",
       "    </tr>\n",
       "    <tr>\n",
       "      <th>3</th>\n",
       "      <td>[basically, 's, family, little, boy, (, jake, ...</td>\n",
       "      <td>0</td>\n",
       "    </tr>\n",
       "    <tr>\n",
       "      <th>4</th>\n",
       "      <td>[petter, mattei, 's, ``, love, time, money, ''...</td>\n",
       "      <td>1</td>\n",
       "    </tr>\n",
       "    <tr>\n",
       "      <th>...</th>\n",
       "      <td>...</td>\n",
       "      <td>...</td>\n",
       "    </tr>\n",
       "    <tr>\n",
       "      <th>49995</th>\n",
       "      <td>[thought, movie, right, good, job, ., n't, cre...</td>\n",
       "      <td>1</td>\n",
       "    </tr>\n",
       "    <tr>\n",
       "      <th>49996</th>\n",
       "      <td>[bad, plot, ,, bad, dialogue, ,, bad, acting, ...</td>\n",
       "      <td>0</td>\n",
       "    </tr>\n",
       "    <tr>\n",
       "      <th>49997</th>\n",
       "      <td>[catholic, taught, parochial, elementary, scho...</td>\n",
       "      <td>0</td>\n",
       "    </tr>\n",
       "    <tr>\n",
       "      <th>49998</th>\n",
       "      <td>['m, going, disagree, previous, comment, side,...</td>\n",
       "      <td>0</td>\n",
       "    </tr>\n",
       "    <tr>\n",
       "      <th>49999</th>\n",
       "      <td>[one, expects, star, trek, movies, high, art, ...</td>\n",
       "      <td>0</td>\n",
       "    </tr>\n",
       "  </tbody>\n",
       "</table>\n",
       "<p>50000 rows × 2 columns</p>\n",
       "</div>"
      ],
      "text/plain": [
       "                                                  review  sentiment\n",
       "0      [one, reviewers, mentioned, watching, 1, oz, e...          1\n",
       "1      [wonderful, little, production, ., filming, te...          1\n",
       "2      [thought, wonderful, way, spend, time, hot, su...          1\n",
       "3      [basically, 's, family, little, boy, (, jake, ...          0\n",
       "4      [petter, mattei, 's, ``, love, time, money, ''...          1\n",
       "...                                                  ...        ...\n",
       "49995  [thought, movie, right, good, job, ., n't, cre...          1\n",
       "49996  [bad, plot, ,, bad, dialogue, ,, bad, acting, ...          0\n",
       "49997  [catholic, taught, parochial, elementary, scho...          0\n",
       "49998  ['m, going, disagree, previous, comment, side,...          0\n",
       "49999  [one, expects, star, trek, movies, high, art, ...          0\n",
       "\n",
       "[50000 rows x 2 columns]"
      ]
     },
     "execution_count": 39,
     "metadata": {},
     "output_type": "execute_result"
    }
   ],
   "source": [
    "df"
   ]
  },
  {
   "cell_type": "code",
   "execution_count": 40,
   "metadata": {
    "id": "0D4E9oWUYnrG"
   },
   "outputs": [],
   "source": [
    "from nltk.stem import PorterStemmer\n",
    "ps=PorterStemmer()"
   ]
  },
  {
   "cell_type": "code",
   "execution_count": 41,
   "metadata": {
    "id": "u7IlEL1hxKOl"
   },
   "outputs": [],
   "source": [
    "y=[]\n",
    "def stem_words(text):\n",
    "    for i in text:\n",
    "        y.append(ps.stem(i))\n",
    "    z=y[:]\n",
    "    y.clear()\n",
    "    return z"
   ]
  },
  {
   "cell_type": "code",
   "execution_count": 42,
   "metadata": {
    "id": "0tC7_2SlZrpS"
   },
   "outputs": [],
   "source": [
    "def stem_txt(text):\n",
    "    ps = PorterStemmer('english')\n",
    "    return \" \".join([ps.stem(w) for w in text])"
   ]
  },
  {
   "cell_type": "code",
   "execution_count": 43,
   "metadata": {
    "id": "ixMyZMZJaMQ_"
   },
   "outputs": [],
   "source": [
    "df['review']=df['review'].apply(stem_words)\n"
   ]
  },
  {
   "cell_type": "code",
   "execution_count": 44,
   "metadata": {
    "colab": {
     "base_uri": "https://localhost:8080/",
     "height": 424
    },
    "id": "1iGNPhr_w0yQ",
    "outputId": "f1e5cd8e-4777-43b0-9d5b-40ecdf45ea75"
   },
   "outputs": [
    {
     "data": {
      "text/html": [
       "<div>\n",
       "<style scoped>\n",
       "    .dataframe tbody tr th:only-of-type {\n",
       "        vertical-align: middle;\n",
       "    }\n",
       "\n",
       "    .dataframe tbody tr th {\n",
       "        vertical-align: top;\n",
       "    }\n",
       "\n",
       "    .dataframe thead th {\n",
       "        text-align: right;\n",
       "    }\n",
       "</style>\n",
       "<table border=\"1\" class=\"dataframe\">\n",
       "  <thead>\n",
       "    <tr style=\"text-align: right;\">\n",
       "      <th></th>\n",
       "      <th>review</th>\n",
       "      <th>sentiment</th>\n",
       "    </tr>\n",
       "  </thead>\n",
       "  <tbody>\n",
       "    <tr>\n",
       "      <th>0</th>\n",
       "      <td>[one, review, mention, watch, 1, oz, episod, '...</td>\n",
       "      <td>1</td>\n",
       "    </tr>\n",
       "    <tr>\n",
       "      <th>1</th>\n",
       "      <td>[wonder, littl, product, ., film, techniqu, un...</td>\n",
       "      <td>1</td>\n",
       "    </tr>\n",
       "    <tr>\n",
       "      <th>2</th>\n",
       "      <td>[thought, wonder, way, spend, time, hot, summe...</td>\n",
       "      <td>1</td>\n",
       "    </tr>\n",
       "    <tr>\n",
       "      <th>3</th>\n",
       "      <td>[basic, 's, famili, littl, boy, (, jake, ), th...</td>\n",
       "      <td>0</td>\n",
       "    </tr>\n",
       "    <tr>\n",
       "      <th>4</th>\n",
       "      <td>[petter, mattei, 's, ``, love, time, money, ''...</td>\n",
       "      <td>1</td>\n",
       "    </tr>\n",
       "    <tr>\n",
       "      <th>...</th>\n",
       "      <td>...</td>\n",
       "      <td>...</td>\n",
       "    </tr>\n",
       "    <tr>\n",
       "      <th>49995</th>\n",
       "      <td>[thought, movi, right, good, job, ., n't, crea...</td>\n",
       "      <td>1</td>\n",
       "    </tr>\n",
       "    <tr>\n",
       "      <th>49996</th>\n",
       "      <td>[bad, plot, ,, bad, dialogu, ,, bad, act, ,, i...</td>\n",
       "      <td>0</td>\n",
       "    </tr>\n",
       "    <tr>\n",
       "      <th>49997</th>\n",
       "      <td>[cathol, taught, parochi, elementari, school, ...</td>\n",
       "      <td>0</td>\n",
       "    </tr>\n",
       "    <tr>\n",
       "      <th>49998</th>\n",
       "      <td>['m, go, disagre, previou, comment, side, malt...</td>\n",
       "      <td>0</td>\n",
       "    </tr>\n",
       "    <tr>\n",
       "      <th>49999</th>\n",
       "      <td>[one, expect, star, trek, movi, high, art, ,, ...</td>\n",
       "      <td>0</td>\n",
       "    </tr>\n",
       "  </tbody>\n",
       "</table>\n",
       "<p>50000 rows × 2 columns</p>\n",
       "</div>"
      ],
      "text/plain": [
       "                                                  review  sentiment\n",
       "0      [one, review, mention, watch, 1, oz, episod, '...          1\n",
       "1      [wonder, littl, product, ., film, techniqu, un...          1\n",
       "2      [thought, wonder, way, spend, time, hot, summe...          1\n",
       "3      [basic, 's, famili, littl, boy, (, jake, ), th...          0\n",
       "4      [petter, mattei, 's, ``, love, time, money, ''...          1\n",
       "...                                                  ...        ...\n",
       "49995  [thought, movi, right, good, job, ., n't, crea...          1\n",
       "49996  [bad, plot, ,, bad, dialogu, ,, bad, act, ,, i...          0\n",
       "49997  [cathol, taught, parochi, elementari, school, ...          0\n",
       "49998  ['m, go, disagre, previou, comment, side, malt...          0\n",
       "49999  [one, expect, star, trek, movi, high, art, ,, ...          0\n",
       "\n",
       "[50000 rows x 2 columns]"
      ]
     },
     "execution_count": 44,
     "metadata": {},
     "output_type": "execute_result"
    }
   ],
   "source": [
    "df"
   ]
  },
  {
   "cell_type": "code",
   "execution_count": 45,
   "metadata": {
    "id": "dJBgFAbXaiUN"
   },
   "outputs": [],
   "source": [
    "def join_back(list_input):\n",
    " return \" \".join(list_input)"
   ]
  },
  {
   "cell_type": "code",
   "execution_count": 46,
   "metadata": {
    "id": "Gughs-mvbdxo"
   },
   "outputs": [],
   "source": [
    "df['review']=df['review'].apply(join_back)"
   ]
  },
  {
   "cell_type": "code",
   "execution_count": 47,
   "metadata": {
    "colab": {
     "base_uri": "https://localhost:8080/",
     "height": 424
    },
    "id": "bDm2vVhvzkw_",
    "outputId": "fa1b458a-16c1-4c3f-f439-16e3ac667179"
   },
   "outputs": [
    {
     "data": {
      "text/html": [
       "<div>\n",
       "<style scoped>\n",
       "    .dataframe tbody tr th:only-of-type {\n",
       "        vertical-align: middle;\n",
       "    }\n",
       "\n",
       "    .dataframe tbody tr th {\n",
       "        vertical-align: top;\n",
       "    }\n",
       "\n",
       "    .dataframe thead th {\n",
       "        text-align: right;\n",
       "    }\n",
       "</style>\n",
       "<table border=\"1\" class=\"dataframe\">\n",
       "  <thead>\n",
       "    <tr style=\"text-align: right;\">\n",
       "      <th></th>\n",
       "      <th>review</th>\n",
       "      <th>sentiment</th>\n",
       "    </tr>\n",
       "  </thead>\n",
       "  <tbody>\n",
       "    <tr>\n",
       "      <th>0</th>\n",
       "      <td>one review mention watch 1 oz episod 'll hook ...</td>\n",
       "      <td>1</td>\n",
       "    </tr>\n",
       "    <tr>\n",
       "      <th>1</th>\n",
       "      <td>wonder littl product . film techniqu unassumin...</td>\n",
       "      <td>1</td>\n",
       "    </tr>\n",
       "    <tr>\n",
       "      <th>2</th>\n",
       "      <td>thought wonder way spend time hot summer weeke...</td>\n",
       "      <td>1</td>\n",
       "    </tr>\n",
       "    <tr>\n",
       "      <th>3</th>\n",
       "      <td>basic 's famili littl boy ( jake ) think 's zo...</td>\n",
       "      <td>0</td>\n",
       "    </tr>\n",
       "    <tr>\n",
       "      <th>4</th>\n",
       "      <td>petter mattei 's `` love time money '' visual ...</td>\n",
       "      <td>1</td>\n",
       "    </tr>\n",
       "    <tr>\n",
       "      <th>...</th>\n",
       "      <td>...</td>\n",
       "      <td>...</td>\n",
       "    </tr>\n",
       "    <tr>\n",
       "      <th>49995</th>\n",
       "      <td>thought movi right good job . n't creativ orig...</td>\n",
       "      <td>1</td>\n",
       "    </tr>\n",
       "    <tr>\n",
       "      <th>49996</th>\n",
       "      <td>bad plot , bad dialogu , bad act , idiot direc...</td>\n",
       "      <td>0</td>\n",
       "    </tr>\n",
       "    <tr>\n",
       "      <th>49997</th>\n",
       "      <td>cathol taught parochi elementari school nun , ...</td>\n",
       "      <td>0</td>\n",
       "    </tr>\n",
       "    <tr>\n",
       "      <th>49998</th>\n",
       "      <td>'m go disagre previou comment side maltin one ...</td>\n",
       "      <td>0</td>\n",
       "    </tr>\n",
       "    <tr>\n",
       "      <th>49999</th>\n",
       "      <td>one expect star trek movi high art , fan expec...</td>\n",
       "      <td>0</td>\n",
       "    </tr>\n",
       "  </tbody>\n",
       "</table>\n",
       "<p>50000 rows × 2 columns</p>\n",
       "</div>"
      ],
      "text/plain": [
       "                                                  review  sentiment\n",
       "0      one review mention watch 1 oz episod 'll hook ...          1\n",
       "1      wonder littl product . film techniqu unassumin...          1\n",
       "2      thought wonder way spend time hot summer weeke...          1\n",
       "3      basic 's famili littl boy ( jake ) think 's zo...          0\n",
       "4      petter mattei 's `` love time money '' visual ...          1\n",
       "...                                                  ...        ...\n",
       "49995  thought movi right good job . n't creativ orig...          1\n",
       "49996  bad plot , bad dialogu , bad act , idiot direc...          0\n",
       "49997  cathol taught parochi elementari school nun , ...          0\n",
       "49998  'm go disagre previou comment side maltin one ...          0\n",
       "49999  one expect star trek movi high art , fan expec...          0\n",
       "\n",
       "[50000 rows x 2 columns]"
      ]
     },
     "execution_count": 47,
     "metadata": {},
     "output_type": "execute_result"
    }
   ],
   "source": [
    "df"
   ]
  },
  {
   "cell_type": "code",
   "execution_count": 48,
   "metadata": {
    "id": "9N-KwPuxbkab"
   },
   "outputs": [],
   "source": [
    "X=df.iloc[:,0:1].values"
   ]
  },
  {
   "cell_type": "code",
   "execution_count": 49,
   "metadata": {
    "colab": {
     "base_uri": "https://localhost:8080/"
    },
    "id": "E5DN4w8cb4JI",
    "outputId": "cb5275a9-1b36-41ee-9388-62a55308939e"
   },
   "outputs": [
    {
     "data": {
      "text/plain": [
       "(50000, 1)"
      ]
     },
     "execution_count": 49,
     "metadata": {},
     "output_type": "execute_result"
    }
   ],
   "source": [
    "X.shape"
   ]
  },
  {
   "cell_type": "markdown",
   "metadata": {
    "id": "Pqd8pwfMV_FB"
   },
   "source": []
  },
  {
   "cell_type": "code",
   "execution_count": 76,
   "metadata": {
    "id": "2cTci8l9b6Y5"
   },
   "outputs": [],
   "source": [
    "from sklearn.feature_extraction.text import CountVectorizer\n",
    "cv=CountVectorizer(max_features=211)"
   ]
  },
  {
   "cell_type": "code",
   "execution_count": 77,
   "metadata": {
    "id": "Nkv7uGgKcH2X"
   },
   "outputs": [],
   "source": [
    "X=cv.fit_transform(df['review']).toarray()"
   ]
  },
  {
   "cell_type": "code",
   "execution_count": 78,
   "metadata": {
    "id": "IqcER-KV4JIq"
   },
   "outputs": [
    {
     "data": {
      "text/plain": [
       "array([[0, 0, 0, ..., 0, 0, 0],\n",
       "       [0, 0, 0, ..., 0, 0, 0],\n",
       "       [0, 0, 0, ..., 1, 0, 1],\n",
       "       ...,\n",
       "       [0, 2, 0, ..., 0, 0, 0],\n",
       "       [0, 0, 0, ..., 0, 0, 0],\n",
       "       [0, 0, 0, ..., 0, 0, 0]], dtype=int64)"
      ]
     },
     "execution_count": 78,
     "metadata": {},
     "output_type": "execute_result"
    }
   ],
   "source": [
    "X"
   ]
  },
  {
   "cell_type": "code",
   "execution_count": 79,
   "metadata": {
    "id": "uxmUChpZcSdo"
   },
   "outputs": [
    {
     "data": {
      "text/plain": [
       "(50000, 211)"
      ]
     },
     "execution_count": 79,
     "metadata": {},
     "output_type": "execute_result"
    }
   ],
   "source": [
    "X.shape"
   ]
  },
  {
   "cell_type": "code",
   "execution_count": 80,
   "metadata": {
    "id": "_g6jbmC8WQ-Q"
   },
   "outputs": [],
   "source": [
    "y=df.iloc[:,-1].values"
   ]
  },
  {
   "cell_type": "code",
   "execution_count": 81,
   "metadata": {
    "id": "yOmOaT_7WXqq"
   },
   "outputs": [
    {
     "data": {
      "text/plain": [
       "(50000,)"
      ]
     },
     "execution_count": 81,
     "metadata": {},
     "output_type": "execute_result"
    }
   ],
   "source": [
    "y.shape"
   ]
  },
  {
   "cell_type": "code",
   "execution_count": 82,
   "metadata": {
    "id": "Lx-g1pU4Ws5K"
   },
   "outputs": [],
   "source": [
    "from sklearn.model_selection import train_test_split\n",
    "from sklearn.metrics import accuracy_score\n",
    "X_train, X_test,y_train,y_test=train_test_split(X,y,test_size=0.2)"
   ]
  },
  {
   "cell_type": "code",
   "execution_count": 83,
   "metadata": {
    "id": "K36TpQ1eXafF"
   },
   "outputs": [
    {
     "data": {
      "text/plain": [
       "(40000, 211)"
      ]
     },
     "execution_count": 83,
     "metadata": {},
     "output_type": "execute_result"
    }
   ],
   "source": [
    "X_train.shape"
   ]
  },
  {
   "cell_type": "code",
   "execution_count": 84,
   "metadata": {
    "id": "BSmmEEAnXfvT"
   },
   "outputs": [
    {
     "data": {
      "text/plain": [
       "(10000, 211)"
      ]
     },
     "execution_count": 84,
     "metadata": {},
     "output_type": "execute_result"
    }
   ],
   "source": [
    "X_test.shape"
   ]
  },
  {
   "cell_type": "code",
   "execution_count": 85,
   "metadata": {
    "id": "xzgSDeW6XqVT"
   },
   "outputs": [
    {
     "data": {
      "text/plain": [
       "(40000,)"
      ]
     },
     "execution_count": 85,
     "metadata": {},
     "output_type": "execute_result"
    }
   ],
   "source": [
    "y_train.shape"
   ]
  },
  {
   "cell_type": "code",
   "execution_count": 86,
   "metadata": {
    "id": "5BseHtUnXsew"
   },
   "outputs": [
    {
     "data": {
      "text/plain": [
       "(10000,)"
      ]
     },
     "execution_count": 86,
     "metadata": {},
     "output_type": "execute_result"
    }
   ],
   "source": [
    "y_test.shape"
   ]
  },
  {
   "cell_type": "code",
   "execution_count": 59,
   "metadata": {
    "id": "ni5Emn0eXvT-"
   },
   "outputs": [
    {
     "name": "stdout",
     "output_type": "stream",
     "text": [
      "Gaussian 0.7826\n",
      "              precision    recall  f1-score   support\n",
      "\n",
      "           0       0.76      0.83      0.79      5030\n",
      "           1       0.81      0.73      0.77      4970\n",
      "\n",
      "    accuracy                           0.78     10000\n",
      "   macro avg       0.79      0.78      0.78     10000\n",
      "weighted avg       0.79      0.78      0.78     10000\n",
      "\n"
     ]
    },
    {
     "data": {
      "text/plain": [
       "<AxesSubplot:>"
      ]
     },
     "execution_count": 59,
     "metadata": {},
     "output_type": "execute_result"
    },
    {
     "data": {
      "image/png": "[encoded data removed]",
      "text/plain": [
       "<Figure size 800x600 with 2 Axes>"
      ]
     },
     "metadata": {},
     "output_type": "display_data"
    }
   ],
   "source": [
    "from sklearn.naive_bayes import GaussianNB\n",
    "model_nb=GaussianNB()\n",
    "model_nb.fit(X_train,y_train)\n",
    "y_pred1=model_nb.predict(X_test)\n",
    "y_test.shape\n",
    "y_pred1.shape\n",
    "print(\"Gaussian\",accuracy_score(y_test,y_pred1))\n",
    "print(classification_report(y_test, y_pred1))\n",
    "\n",
    "cm = confusion_matrix(y_test, y_pred1)\n",
    "fig, ax = plt.subplots(figsize=(8, 6))\n",
    "sns.heatmap(cm, annot=True, fmt='d', cmap='YlGnBu')"
   ]
  },
  {
   "cell_type": "code",
   "execution_count": 60,
   "metadata": {
    "id": "iDvYGd2JIUf0"
   },
   "outputs": [
    {
     "name": "stdout",
     "output_type": "stream",
     "text": [
      "Decision Tree Model, Accuracy (Train Set) :  0.81315\n",
      "Decision Tree Model, Accuracy (Test Set) :  0.7443\n",
      "              precision    recall  f1-score   support\n",
      "\n",
      "           0       0.80      0.66      0.72      5030\n",
      "           1       0.71      0.83      0.76      4970\n",
      "\n",
      "    accuracy                           0.74     10000\n",
      "   macro avg       0.75      0.74      0.74     10000\n",
      "weighted avg       0.75      0.74      0.74     10000\n",
      "\n"
     ]
    },
    {
     "data": {
      "text/plain": [
       "<AxesSubplot:>"
      ]
     },
     "execution_count": 60,
     "metadata": {},
     "output_type": "execute_result"
    },
    {
     "data": {
      "image/png": "[encoded data removed]",
      "text/plain": [
       "<Figure size 800x600 with 2 Axes>"
      ]
     },
     "metadata": {},
     "output_type": "display_data"
    }
   ],
   "source": [
    "from sklearn.tree import DecisionTreeClassifier\n",
    "maximum_tree_depth= 15\n",
    "model_dt = DecisionTreeClassifier(max_depth=maximum_tree_depth)\n",
    "model_dt.fit(X_train,y_train)\n",
    "y_pred_dt = model_dt.predict(X_test)\n",
    "\n",
    "accuracy_train_set = model_dt.score(X_train, y_train)\n",
    "accuracy_test_set = model_dt.score(X_test, y_test)\n",
    "print(\"Decision Tree Model, Accuracy (Train Set) : \", accuracy_train_set)\n",
    "print(\"Decision Tree Model, Accuracy (Test Set) : \", accuracy_test_set)\n",
    "\n",
    "print(classification_report(y_test, y_pred_dt))\n",
    "\n",
    "cm = confusion_matrix(y_test, y_pred_dt)\n",
    "fig, ax = plt.subplots(figsize=(8, 6))\n",
    "sns.heatmap(cm, annot=True, fmt='d', cmap='YlGnBu')"
   ]
  },
  {
   "cell_type": "code",
   "execution_count": 87,
   "metadata": {
    "id": "OIAw5HclOgIL"
   },
   "outputs": [
    {
     "name": "stdout",
     "output_type": "stream",
     "text": [
      "Logistic Regression Model, Accuracy (Train Set) :  0.7937\n",
      "Logistic Regression Model, Accuracy (Test Set) :  0.7898\n",
      "              precision    recall  f1-score   support\n",
      "\n",
      "           0       0.80      0.78      0.79      5069\n",
      "           1       0.78      0.80      0.79      4931\n",
      "\n",
      "    accuracy                           0.79     10000\n",
      "   macro avg       0.79      0.79      0.79     10000\n",
      "weighted avg       0.79      0.79      0.79     10000\n",
      "\n"
     ]
    },
    {
     "data": {
      "text/plain": [
       "<AxesSubplot:>"
      ]
     },
     "execution_count": 87,
     "metadata": {},
     "output_type": "execute_result"
    },
    {
     "data": {
      "image/png": "[encoded data removed]",
      "text/plain": [
       "<Figure size 800x600 with 2 Axes>"
      ]
     },
     "metadata": {},
     "output_type": "display_data"
    }
   ],
   "source": [
    "from sklearn.linear_model import LogisticRegression \n",
    "l2_norm = 0.4 # regularization parameter\n",
    "l2_norm_inverse = 1/l2_norm \n",
    "maximum_iterations=4000\n",
    "model_lr = LogisticRegression(C=l2_norm_inverse,max_iter=maximum_iterations)\n",
    "model_lr.fit(X_train, y_train)\n",
    "y_pred_lr = model_lr.predict(X_test)\n",
    "\n",
    "accuracy_train_set = model_lr.score(X_train, y_train)\n",
    "accuracy_test_set = model_lr.score(X_test, y_test)\n",
    "print(\"Logistic Regression Model, Accuracy (Train Set) : \", accuracy_train_set)\n",
    "print(\"Logistic Regression Model, Accuracy (Test Set) : \", accuracy_test_set)\n",
    "print(classification_report(y_test, y_pred_lr))\n",
    "cm = confusion_matrix(y_test, y_pred_lr)\n",
    "fig, ax = plt.subplots(figsize=(8, 6))\n",
    "sns.heatmap(cm, annot=True, fmt='d', cmap='YlGnBu')"
   ]
  },
  {
   "cell_type": "code",
   "execution_count": 530,
   "metadata": {
    "id": "wP-Pl2kgQsHt"
   },
   "outputs": [],
   "source": [
    "from sklearn.ensemble import StackingClassifier\n"
   ]
  },
  {
   "cell_type": "code",
   "execution_count": 532,
   "metadata": {
    "id": "XxBBaSlWVQJ3"
   },
   "outputs": [
    {
     "name": "stdout",
     "output_type": "stream",
     "text": [
      " Accuracy :  0.793\n"
     ]
    }
   ],
   "source": [
    "esti=[('nb', model_nb), ('dt', model_dt), ('lr', model_lr)]\n",
    "f_estimator=model_lr\n",
    "\n",
    "sclf = StackingClassifier(estimators = esti, final_estimator = f_estimator)\n",
    "sclf.fit(X_train, y_train)\n",
    "y_pred_sclf = sclf.predict(X_test)\n",
    "accuracy_test_set = sclf.score(X_test, y_test)\n",
    "print(\" Accuracy : \", accuracy_test_set)"
   ]
  },
  {
   "cell_type": "code",
   "execution_count": 255,
   "metadata": {},
   "outputs": [],
   "source": [
    "inputr = \"A young girl's five emotions try to solve her identity crisis caused by moving, but when the wrong levers in brain's control center are pushed, things go awry.That synopsis made me push watching this further and further ahead to, but I loved Docter's masterpiece Up so I had to watch this in a theater while I still could. Me and my partner thought, well, not really expecting much, so it will probably be OK. But oh what a disappointment it was. OK, I admit we are not teens. And love Japanese animation. And I do not appreciate Disney because of their marketing bonanza and ill-fitting gender stereotypes. But this film is so chock-full of fantasy-killing and misguided ideological messages that I am flabbergasted. It is beyond me how so little viewers find offense with the messages, and that these are thoroughly inappropriate for kids.Like for instance: 1) You are not in control of your emotions, your emotions control you. 2) Thought and reason have no influence at all on your decisions. 3) If you do not keep your emotions in check, you will lose your memories. If you lose your memories, you will become emotionally unresponsive. 4) There is only one good emotion (joy). There are four negative ones (sadness, anger, disgust, fear). That is it. That is what everyone feels. To hell with love. Or desire. Or curiosity. Or faith. 5) In order to grow up, your joyful memories have to become sad memories. Why? Good question. That is the climax of the movie and there is no explanation why this should be the case.None of this makes any sense. The whole plot is completely incoherent. These messages hold no educational value whatsoever. And strangely this seems to be more obvious to children than to adults - I heard a boy asking his parents what any of that was supposed to mean.This is obviously made and marketed for tech-savvy young parents who think they should take their kids to something more challenging than Planes 2. The parents look like what an ad exec at Disney imagines Google employees to look like - mom wears cute specs, dad a hipster beard and it is set in San Francisco on top of that. The whole thing is probably the most in-your-face marketing device posing for a movie that I have ever seen. And everybody seems to be literally buying it.Well, not everybody. Some of the reviewers here do have similar issues, so all is not lost for the human race. If you care for an alternative story about a girl away from home struggling to adapt, there is the fantastic new Ghibli feature When Marnie was there. That film has everything Inside Out has not: a story, believable characters, imagination, mystery, and most importantly: heart.\""
   ]
  },
  {
   "cell_type": "code",
   "execution_count": 256,
   "metadata": {
    "id": "Rlr1JjKNSUba"
   },
   "outputs": [
    {
     "data": {
      "text/plain": [
       "0    A young girl's five emotions try to solve her ...\n",
       "dtype: object"
      ]
     },
     "execution_count": 256,
     "metadata": {},
     "output_type": "execute_result"
    }
   ],
   "source": [
    "inputt = pd.Series(inputr)\n",
    "inputt"
   ]
  },
  {
   "cell_type": "code",
   "execution_count": 257,
   "metadata": {
    "id": "GoCfLn6-TBUQ"
   },
   "outputs": [],
   "source": [
    "inputt = remove_special(inputr)"
   ]
  },
  {
   "cell_type": "code",
   "execution_count": 258,
   "metadata": {},
   "outputs": [
    {
     "data": {
      "text/plain": [
       "' A young girl s five emotions try to solve her identity crisis caused by moving  but when the wrong levers in brain s control center are pushed  things go awry That synopsis made me push watching this further and further ahead to  but I loved Docter s masterpiece Up so I had to watch this in a theater while I still could  Me and my partner thought  well  not really expecting much  so it will probably be OK  But oh what a disappointment it was  OK  I admit we are not teens  And love Japanese animation  And I do not appreciate Disney because of their marketing bonanza and ill fitting gender stereotypes  But this film is so chock full of fantasy killing and misguided ideological messages that I am flabbergasted  It is beyond me how so little viewers find offense with the messages  and that these are thoroughly inappropriate for kids Like for instance  1  You are not in control of your emotions  your emotions control you  2  Thought and reason have no influence at all on your decisions  3  If you do not keep your emotions in check  you will lose your memories  If you lose your memories  you will become emotionally unresponsive  4  There is only one good emotion  joy   There are four negative ones  sadness  anger  disgust  fear   That is it  That is what everyone feels  To hell with love  Or desire  Or curiosity  Or faith  5  In order to grow up  your joyful memories have to become sad memories  Why  Good question  That is the climax of the movie and there is no explanation why this should be the case None of this makes any sense  The whole plot is completely incoherent  These messages hold no educational value whatsoever  And strangely this seems to be more obvious to children than to adults   I heard a boy asking his parents what any of that was supposed to mean This is obviously made and marketed for tech savvy young parents who think they should take their kids to something more challenging than Planes 2  The parents look like what an ad exec at Disney imagines Google employees to look like   mom wears cute specs  dad a hipster beard and it is set in San Francisco on top of that  The whole thing is probably the most in your face marketing device posing for a movie that I have ever seen  And everybody seems to be literally buying it Well  not everybody  Some of the reviewers here do have similar issues  so all is not lost for the human race  If you care for an alternative story about a girl away from home struggling to adapt  there is the fantastic new Ghibli feature When Marnie was there  That film has everything Inside Out has not  a story  believable characters  imagination  mystery  and most importantly  heart '"
      ]
     },
     "execution_count": 258,
     "metadata": {},
     "output_type": "execute_result"
    }
   ],
   "source": [
    "inputt"
   ]
  },
  {
   "cell_type": "code",
   "execution_count": 259,
   "metadata": {
    "id": "qZBNt0rgTCy4"
   },
   "outputs": [],
   "source": [
    "inputt = rem_stopwords(inputt)"
   ]
  },
  {
   "cell_type": "code",
   "execution_count": 260,
   "metadata": {},
   "outputs": [
    {
     "data": {
      "text/plain": [
       "['A',\n",
       " 'young',\n",
       " 'girl',\n",
       " 'five',\n",
       " 'emotions',\n",
       " 'try',\n",
       " 'solve',\n",
       " 'identity',\n",
       " 'crisis',\n",
       " 'caused',\n",
       " 'moving',\n",
       " 'wrong',\n",
       " 'levers',\n",
       " 'brain',\n",
       " 'control',\n",
       " 'center',\n",
       " 'pushed',\n",
       " 'things',\n",
       " 'go',\n",
       " 'awry',\n",
       " 'That',\n",
       " 'synopsis',\n",
       " 'made',\n",
       " 'push',\n",
       " 'watching',\n",
       " 'ahead',\n",
       " 'I',\n",
       " 'loved',\n",
       " 'Docter',\n",
       " 'masterpiece',\n",
       " 'Up',\n",
       " 'I',\n",
       " 'watch',\n",
       " 'theater',\n",
       " 'I',\n",
       " 'still',\n",
       " 'could',\n",
       " 'Me',\n",
       " 'partner',\n",
       " 'thought',\n",
       " 'well',\n",
       " 'really',\n",
       " 'expecting',\n",
       " 'much',\n",
       " 'probably',\n",
       " 'OK',\n",
       " 'But',\n",
       " 'oh',\n",
       " 'disappointment',\n",
       " 'OK',\n",
       " 'I',\n",
       " 'admit',\n",
       " 'teens',\n",
       " 'And',\n",
       " 'love',\n",
       " 'Japanese',\n",
       " 'animation',\n",
       " 'And',\n",
       " 'I',\n",
       " 'appreciate',\n",
       " 'Disney',\n",
       " 'marketing',\n",
       " 'bonanza',\n",
       " 'ill',\n",
       " 'fitting',\n",
       " 'gender',\n",
       " 'stereotypes',\n",
       " 'But',\n",
       " 'film',\n",
       " 'chock',\n",
       " 'full',\n",
       " 'fantasy',\n",
       " 'killing',\n",
       " 'misguided',\n",
       " 'ideological',\n",
       " 'messages',\n",
       " 'I',\n",
       " 'flabbergasted',\n",
       " 'It',\n",
       " 'beyond',\n",
       " 'little',\n",
       " 'viewers',\n",
       " 'find',\n",
       " 'offense',\n",
       " 'messages',\n",
       " 'thoroughly',\n",
       " 'inappropriate',\n",
       " 'kids',\n",
       " 'Like',\n",
       " 'instance',\n",
       " '1',\n",
       " 'You',\n",
       " 'control',\n",
       " 'emotions',\n",
       " 'emotions',\n",
       " 'control',\n",
       " '2',\n",
       " 'Thought',\n",
       " 'reason',\n",
       " 'influence',\n",
       " 'decisions',\n",
       " '3',\n",
       " 'If',\n",
       " 'keep',\n",
       " 'emotions',\n",
       " 'check',\n",
       " 'lose',\n",
       " 'memories',\n",
       " 'If',\n",
       " 'lose',\n",
       " 'memories',\n",
       " 'become',\n",
       " 'emotionally',\n",
       " 'unresponsive',\n",
       " '4',\n",
       " 'There',\n",
       " 'one',\n",
       " 'good',\n",
       " 'emotion',\n",
       " 'joy',\n",
       " 'There',\n",
       " 'four',\n",
       " 'negative',\n",
       " 'ones',\n",
       " 'sadness',\n",
       " 'anger',\n",
       " 'disgust',\n",
       " 'fear',\n",
       " 'That',\n",
       " 'That',\n",
       " 'everyone',\n",
       " 'feels',\n",
       " 'To',\n",
       " 'hell',\n",
       " 'love',\n",
       " 'Or',\n",
       " 'desire',\n",
       " 'Or',\n",
       " 'curiosity',\n",
       " 'Or',\n",
       " 'faith',\n",
       " '5',\n",
       " 'In',\n",
       " 'order',\n",
       " 'grow',\n",
       " 'joyful',\n",
       " 'memories',\n",
       " 'become',\n",
       " 'sad',\n",
       " 'memories',\n",
       " 'Why',\n",
       " 'Good',\n",
       " 'question',\n",
       " 'That',\n",
       " 'climax',\n",
       " 'movie',\n",
       " 'explanation',\n",
       " 'case',\n",
       " 'None',\n",
       " 'makes',\n",
       " 'sense',\n",
       " 'The',\n",
       " 'whole',\n",
       " 'plot',\n",
       " 'completely',\n",
       " 'incoherent',\n",
       " 'These',\n",
       " 'messages',\n",
       " 'hold',\n",
       " 'educational',\n",
       " 'value',\n",
       " 'whatsoever',\n",
       " 'And',\n",
       " 'strangely',\n",
       " 'seems',\n",
       " 'obvious',\n",
       " 'children',\n",
       " 'adults',\n",
       " 'I',\n",
       " 'heard',\n",
       " 'boy',\n",
       " 'asking',\n",
       " 'parents',\n",
       " 'supposed',\n",
       " 'mean',\n",
       " 'This',\n",
       " 'obviously',\n",
       " 'made',\n",
       " 'marketed',\n",
       " 'tech',\n",
       " 'savvy',\n",
       " 'young',\n",
       " 'parents',\n",
       " 'think',\n",
       " 'take',\n",
       " 'kids',\n",
       " 'something',\n",
       " 'challenging',\n",
       " 'Planes',\n",
       " '2',\n",
       " 'The',\n",
       " 'parents',\n",
       " 'look',\n",
       " 'like',\n",
       " 'ad',\n",
       " 'exec',\n",
       " 'Disney',\n",
       " 'imagines',\n",
       " 'Google',\n",
       " 'employees',\n",
       " 'look',\n",
       " 'like',\n",
       " 'mom',\n",
       " 'wears',\n",
       " 'cute',\n",
       " 'specs',\n",
       " 'dad',\n",
       " 'hipster',\n",
       " 'beard',\n",
       " 'set',\n",
       " 'San',\n",
       " 'Francisco',\n",
       " 'top',\n",
       " 'The',\n",
       " 'whole',\n",
       " 'thing',\n",
       " 'probably',\n",
       " 'face',\n",
       " 'marketing',\n",
       " 'device',\n",
       " 'posing',\n",
       " 'movie',\n",
       " 'I',\n",
       " 'ever',\n",
       " 'seen',\n",
       " 'And',\n",
       " 'everybody',\n",
       " 'seems',\n",
       " 'literally',\n",
       " 'buying',\n",
       " 'Well',\n",
       " 'everybody',\n",
       " 'Some',\n",
       " 'reviewers',\n",
       " 'similar',\n",
       " 'issues',\n",
       " 'lost',\n",
       " 'human',\n",
       " 'race',\n",
       " 'If',\n",
       " 'care',\n",
       " 'alternative',\n",
       " 'story',\n",
       " 'girl',\n",
       " 'away',\n",
       " 'home',\n",
       " 'struggling',\n",
       " 'adapt',\n",
       " 'fantastic',\n",
       " 'new',\n",
       " 'Ghibli',\n",
       " 'feature',\n",
       " 'When',\n",
       " 'Marnie',\n",
       " 'That',\n",
       " 'film',\n",
       " 'everything',\n",
       " 'Inside',\n",
       " 'Out',\n",
       " 'story',\n",
       " 'believable',\n",
       " 'characters',\n",
       " 'imagination',\n",
       " 'mystery',\n",
       " 'importantly',\n",
       " 'heart']"
      ]
     },
     "execution_count": 260,
     "metadata": {},
     "output_type": "execute_result"
    }
   ],
   "source": [
    "inputt"
   ]
  },
  {
   "cell_type": "code",
   "execution_count": 261,
   "metadata": {
    "id": "wPwaTWEcTcT4"
   },
   "outputs": [],
   "source": [
    "inputt = join_back(inputt)"
   ]
  },
  {
   "cell_type": "code",
   "execution_count": 262,
   "metadata": {
    "id": "fDTGlgyd6KFi"
   },
   "outputs": [
    {
     "data": {
      "text/plain": [
       "'A young girl five emotions try solve identity crisis caused moving wrong levers brain control center pushed things go awry That synopsis made push watching ahead I loved Docter masterpiece Up I watch theater I still could Me partner thought well really expecting much probably OK But oh disappointment OK I admit teens And love Japanese animation And I appreciate Disney marketing bonanza ill fitting gender stereotypes But film chock full fantasy killing misguided ideological messages I flabbergasted It beyond little viewers find offense messages thoroughly inappropriate kids Like instance 1 You control emotions emotions control 2 Thought reason influence decisions 3 If keep emotions check lose memories If lose memories become emotionally unresponsive 4 There one good emotion joy There four negative ones sadness anger disgust fear That That everyone feels To hell love Or desire Or curiosity Or faith 5 In order grow joyful memories become sad memories Why Good question That climax movie explanation case None makes sense The whole plot completely incoherent These messages hold educational value whatsoever And strangely seems obvious children adults I heard boy asking parents supposed mean This obviously made marketed tech savvy young parents think take kids something challenging Planes 2 The parents look like ad exec Disney imagines Google employees look like mom wears cute specs dad hipster beard set San Francisco top The whole thing probably face marketing device posing movie I ever seen And everybody seems literally buying Well everybody Some reviewers similar issues lost human race If care alternative story girl away home struggling adapt fantastic new Ghibli feature When Marnie That film everything Inside Out story believable characters imagination mystery importantly heart'"
      ]
     },
     "execution_count": 262,
     "metadata": {},
     "output_type": "execute_result"
    }
   ],
   "source": [
    "inputt"
   ]
  },
  {
   "cell_type": "code",
   "execution_count": 263,
   "metadata": {},
   "outputs": [],
   "source": [
    "inputt = [inputt]"
   ]
  },
  {
   "cell_type": "code",
   "execution_count": 264,
   "metadata": {},
   "outputs": [],
   "source": [
    "from sklearn import *\n",
    "from sklearn.feature_extraction.text import CountVectorizer\n",
    "cv=CountVectorizer()"
   ]
  },
  {
   "cell_type": "code",
   "execution_count": 265,
   "metadata": {},
   "outputs": [
    {
     "name": "stdout",
     "output_type": "stream",
     "text": [
      "{'young': 210, 'girl': 75, 'five': 68, 'emotions': 49, 'try': 195, 'solve': 168, 'identity': 87, 'crisis': 35, 'caused': 24, 'moving': 130, 'wrong': 208, 'levers': 108, 'brain': 19, 'control': 33, 'center': 25, 'pushed': 153, 'things': 188, 'go': 76, 'awry': 12, 'that': 182, 'synopsis': 178, 'made': 117, 'push': 152, 'watching': 201, 'ahead': 4, 'loved': 116, 'docter': 45, 'masterpiece': 122, 'up': 197, 'watch': 200, 'theater': 184, 'still': 173, 'could': 34, 'me': 123, 'partner': 147, 'thought': 192, 'well': 203, 'really': 156, 'expecting': 56, 'much': 131, 'probably': 151, 'ok': 140, 'but': 20, 'oh': 139, 'disappointment': 42, 'admit': 2, 'teens': 181, 'and': 6, 'love': 115, 'japanese': 102, 'animation': 8, 'appreciate': 9, 'disney': 44, 'marketing': 120, 'bonanza': 17, 'ill': 90, 'fitting': 67, 'gender': 73, 'stereotypes': 172, 'film': 65, 'chock': 30, 'full': 72, 'fantasy': 61, 'killing': 107, 'misguided': 127, 'ideological': 88, 'messages': 126, 'flabbergasted': 69, 'it': 101, 'beyond': 16, 'little': 111, 'viewers': 199, 'find': 66, 'offense': 138, 'thoroughly': 191, 'inappropriate': 95, 'kids': 106, 'like': 109, 'instance': 99, 'you': 209, 'reason': 157, 'influence': 97, 'decisions': 39, 'if': 89, 'keep': 105, 'check': 28, 'lose': 113, 'memories': 125, 'become': 14, 'emotionally': 48, 'unresponsive': 196, 'there': 185, 'one': 141, 'good': 77, 'emotion': 47, 'joy': 103, 'four': 70, 'negative': 133, 'ones': 142, 'sadness': 160, 'anger': 7, 'disgust': 43, 'fear': 62, 'everyone': 53, 'feels': 64, 'to': 193, 'hell': 82, 'or': 143, 'desire': 40, 'curiosity': 36, 'faith': 59, 'in': 94, 'order': 144, 'grow': 79, 'joyful': 104, 'sad': 159, 'why': 207, 'question': 154, 'climax': 31, 'movie': 129, 'explanation': 57, 'case': 23, 'none': 135, 'makes': 118, 'sense': 165, 'the': 183, 'whole': 206, 'plot': 149, 'completely': 32, 'incoherent': 96, 'these': 186, 'hold': 84, 'educational': 46, 'value': 198, 'whatsoever': 204, 'strangely': 175, 'seems': 163, 'obvious': 136, 'children': 29, 'adults': 3, 'heard': 80, 'boy': 18, 'asking': 10, 'parents': 146, 'supposed': 177, 'mean': 124, 'this': 190, 'obviously': 137, 'marketed': 119, 'tech': 180, 'savvy': 162, 'think': 189, 'take': 179, 'something': 170, 'challenging': 26, 'planes': 148, 'look': 112, 'ad': 0, 'exec': 55, 'imagines': 92, 'google': 78, 'employees': 50, 'mom': 128, 'wears': 202, 'cute': 37, 'specs': 171, 'dad': 38, 'hipster': 83, 'beard': 13, 'set': 166, 'san': 161, 'francisco': 71, 'top': 194, 'thing': 187, 'face': 58, 'device': 41, 'posing': 150, 'ever': 51, 'seen': 164, 'everybody': 52, 'literally': 110, 'buying': 21, 'some': 169, 'reviewers': 158, 'similar': 167, 'issues': 100, 'lost': 114, 'human': 86, 'race': 155, 'care': 22, 'alternative': 5, 'story': 174, 'away': 11, 'home': 85, 'struggling': 176, 'adapt': 1, 'fantastic': 60, 'new': 134, 'ghibli': 74, 'feature': 63, 'when': 205, 'marnie': 121, 'everything': 54, 'inside': 98, 'out': 145, 'believable': 15, 'characters': 27, 'imagination': 91, 'mystery': 132, 'importantly': 93, 'heart': 81}\n"
     ]
    }
   ],
   "source": [
    "i = cv.fit(inputt)\n",
    "print(i.vocabulary_)"
   ]
  },
  {
   "cell_type": "code",
   "execution_count": 266,
   "metadata": {},
   "outputs": [
    {
     "data": {
      "text/plain": [
       "array([[1, 1, 1, 1, 1, 1, 4, 1, 1, 1, 1, 1, 1, 1, 2, 1, 1, 1, 1, 1, 2, 1,\n",
       "        1, 1, 1, 1, 1, 1, 1, 1, 1, 1, 1, 3, 1, 1, 1, 1, 1, 1, 1, 1, 1, 1,\n",
       "        2, 1, 1, 1, 1, 4, 1, 1, 2, 1, 1, 1, 1, 1, 1, 1, 1, 1, 1, 1, 1, 2,\n",
       "        1, 1, 1, 1, 1, 1, 1, 1, 1, 2, 1, 2, 1, 1, 1, 1, 1, 1, 1, 1, 1, 1,\n",
       "        1, 3, 1, 1, 1, 1, 1, 1, 1, 1, 1, 1, 1, 1, 1, 1, 1, 1, 2, 1, 1, 3,\n",
       "        1, 1, 2, 2, 1, 2, 1, 2, 1, 1, 2, 1, 1, 1, 1, 4, 3, 1, 1, 2, 1, 1,\n",
       "        1, 1, 1, 1, 1, 1, 1, 1, 2, 1, 1, 3, 1, 1, 3, 1, 1, 1, 1, 2, 1, 1,\n",
       "        1, 1, 1, 1, 1, 1, 1, 1, 1, 2, 1, 1, 1, 1, 1, 1, 1, 1, 1, 1, 2, 1,\n",
       "        1, 1, 1, 1, 1, 1, 5, 3, 1, 2, 1, 1, 1, 1, 1, 1, 2, 1, 1, 1, 1, 1,\n",
       "        1, 1, 1, 1, 1, 2, 1, 1, 2, 1, 1, 1, 2]], dtype=int64)"
      ]
     },
     "execution_count": 266,
     "metadata": {},
     "output_type": "execute_result"
    }
   ],
   "source": [
    "i=cv.transform(inputt)\n",
    "i.toarray()"
   ]
  },
  {
   "cell_type": "code",
   "execution_count": 267,
   "metadata": {
    "id": "4q0XPojd2Zhj"
   },
   "outputs": [
    {
     "data": {
      "text/plain": [
       "<1x211 sparse matrix of type '<class 'numpy.int64'>'\n",
       "\twith 211 stored elements in Compressed Sparse Row format>"
      ]
     },
     "execution_count": 267,
     "metadata": {},
     "output_type": "execute_result"
    }
   ],
   "source": [
    "i"
   ]
  },
  {
   "cell_type": "code",
   "execution_count": 268,
   "metadata": {
    "id": "-sopg65eE9SC"
   },
   "outputs": [],
   "source": [
    "predtt = model_lr.predict(i)"
   ]
  },
  {
   "cell_type": "code",
   "execution_count": 269,
   "metadata": {
    "id": "EvF5uEscyo56"
   },
   "outputs": [
    {
     "data": {
      "text/plain": [
       "array([0], dtype=int64)"
      ]
     },
     "execution_count": 269,
     "metadata": {},
     "output_type": "execute_result"
    }
   ],
   "source": [
    "predtt"
   ]
  },
  {
   "cell_type": "code",
   "execution_count": 1,
   "metadata": {
    "id": "bocXMdNhztd7"
   },
   "outputs": [
    {
     "name": "stdout",
     "output_type": "stream",
     "text": [
      "^C\n"
     ]
    }
   ],
   "source": [
    "!pip install streamlit"
   ]
  },
  {
   "cell_type": "code",
   "execution_count": 103,
   "metadata": {
    "id": "AgO_Fcq4z47l"
   },
   "outputs": [],
   "source": [
    "import streamlit as st"
   ]
  },
  {
   "cell_type": "code",
   "execution_count": 104,
   "metadata": {},
   "outputs": [],
   "source": [
    "import pickle\n",
    "movier = 'logisticregression.pkl'\n",
    "pickle.dump(model_lr, open(movier, 'wb'))"
   ]
  }
 ],
 "metadata": {
  "colab": {
   "provenance": []
  },
  "kernelspec": {
   "display_name": "Python 3 (ipykernel)",
   "language": "python",
   "name": "python3"
  },
  "language_info": {
   "codemirror_mode": {
    "name": "ipython",
    "version": 3
   },
   "file_extension": ".py",
   "mimetype": "text/x-python",
   "name": "python",
   "nbconvert_exporter": "python",
   "pygments_lexer": "ipython3",
   "version": "3.9.13"
  }
 },
 "nbformat": 4,
 "nbformat_minor": 1
}
